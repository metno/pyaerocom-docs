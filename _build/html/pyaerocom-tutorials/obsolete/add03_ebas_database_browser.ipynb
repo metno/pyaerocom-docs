{
 "cells": [
  {
   "cell_type": "markdown",
   "metadata": {},
   "source": [
    "### EBAS file query and database browser\n",
    "\n",
    "The previous tutorial showed how to read EBAS NASA Ames files and gave insights into the structure of these files. However, this did not include the specification of an actual data request (for instance: get data from all stations in the arctic that contain measurements of the AOD between 2010 and 2016).\n",
    "\n",
    "In this tutorial, we show, how such requests can be specified easily in pyaerocom and how the database can be browsed for instance by variable name, type of instrument, location or other relevant parameters.\n",
    "\n",
    "The notebook is categorised as follows:\n",
    "\n",
    "- Defining a request\n",
    "- Retrieve all files for a request\n",
    "- Browse the database\n",
    "\n",
    "#### Specifying a request\n",
    "\n",
    "Request parameters can be specified using the ``EbasSQLRequest`` class. E.g.:"
   ]
  },
  {
   "cell_type": "code",
   "execution_count": 1,
   "metadata": {},
   "outputs": [
    {
     "name": "stderr",
     "output_type": "stream",
     "text": [
      "Initating pyaerocom configuration\n"
     ]
    },
    {
     "name": "stderr",
     "output_type": "stream",
     "text": [
      "Checking database access...\n"
     ]
    },
    {
     "name": "stderr",
     "output_type": "stream",
     "text": [
      "Checking access to: /lustre/storeA\n"
     ]
    },
    {
     "name": "stderr",
     "output_type": "stream",
     "text": [
      "Access to lustre database: True\n"
     ]
    },
    {
     "name": "stderr",
     "output_type": "stream",
     "text": [
      "Init data paths for lustre\n"
     ]
    },
    {
     "name": "stderr",
     "output_type": "stream",
     "text": [
      "Expired time: 0.016 s\n"
     ]
    },
    {
     "name": "stdout",
     "output_type": "stream",
     "text": [
      "\n",
      "Pyaerocom EbasSQLRequest\n",
      "------------------------\n",
      "variables: ('aerosol_light_scattering_coefficient', 'aerosol_light_backscattering_coefficient', 'pressure')\n",
      "start_date: 2010-01-01\n",
      "stop_date: 2011-01-01\n",
      "station_names: None\n",
      "matrices: None\n",
      "altitude_range: None\n",
      "lon_range: None\n",
      "lat_range: None\n",
      "instrument_types: None\n",
      "statistics: None\n",
      "datalevel: None\n",
      "Filename request string:\n",
      "select distinct filename from variable join station on station.station_code=variable.station_code where comp_name in ('aerosol_light_scattering_coefficient', 'aerosol_light_backscattering_coefficient', 'pressure') and first_end < '2011-01-01' and last_start > '2010-01-01';\n"
     ]
    }
   ],
   "source": [
    "import pyaerocom as pya\n",
    "\n",
    "request = pya.io.ebas_file_index.EbasSQLRequest(variables=('aerosol_light_scattering_coefficient',\n",
    "                                                             'aerosol_light_backscattering_coefficient',\n",
    "                                                             'pressure'),\n",
    "                                                  start_date=\"2010-01-01\", \n",
    "                                                  stop_date=\"2011-01-01\")\n",
    "print(request)"
   ]
  },
  {
   "cell_type": "markdown",
   "metadata": {},
   "source": [
    "You can also output the actual SQL query string:"
   ]
  },
  {
   "cell_type": "code",
   "execution_count": 2,
   "metadata": {},
   "outputs": [
    {
     "name": "stdout",
     "output_type": "stream",
     "text": [
      "select distinct filename from variable join station on station.station_code=variable.station_code where comp_name in ('aerosol_light_scattering_coefficient', 'aerosol_light_backscattering_coefficient', 'pressure') and first_end < '2011-01-01' and last_start > '2010-01-01';\n"
     ]
    }
   ],
   "source": [
    "print(request.make_query_str())"
   ]
  },
  {
   "cell_type": "markdown",
   "metadata": {},
   "source": [
    "The request class is an extended dictionary and can thus be used like a dictionary:"
   ]
  },
  {
   "cell_type": "code",
   "execution_count": 3,
   "metadata": {},
   "outputs": [
    {
     "name": "stdout",
     "output_type": "stream",
     "text": [
      "\n",
      "Pyaerocom EbasSQLRequest\n",
      "------------------------\n",
      "variables: ('aerosol_light_scattering_coefficient', 'aerosol_light_backscattering_coefficient', 'pressure')\n",
      "start_date: 2010-01-01\n",
      "stop_date: 2011-01-01\n",
      "station_names: None\n",
      "matrices: None\n",
      "altitude_range: None\n",
      "lon_range: None\n",
      "lat_range: None\n",
      "instrument_types: nephelometer\n",
      "statistics: None\n",
      "datalevel: None\n",
      "Filename request string:\n",
      "select distinct filename from variable join station on station.station_code=variable.station_code where instr_type in ('nephelometer') and comp_name in ('aerosol_light_scattering_coefficient', 'aerosol_light_backscattering_coefficient', 'pressure') and first_end < '2011-01-01' and last_start > '2010-01-01';\n"
     ]
    }
   ],
   "source": [
    "request.update(instrument_types=(\"nephelometer\"))\n",
    "print(request)"
   ]
  },
  {
   "cell_type": "markdown",
   "metadata": {},
   "source": [
    "#### Execution of file request query\n",
    "\n",
    "Now that we have defined which files we would like to look into, we can execute the query and retrieve all files that match our specifications. This can be done with the ``EbasFileIndex`` class:"
   ]
  },
  {
   "cell_type": "code",
   "execution_count": 4,
   "metadata": {},
   "outputs": [],
   "source": [
    "db = pya.io.EbasFileIndex()\n",
    "files = db.execute_request(request)"
   ]
  },
  {
   "cell_type": "code",
   "execution_count": 5,
   "metadata": {},
   "outputs": [
    {
     "name": "stdout",
     "output_type": "stream",
     "text": [
      "Total number of files found:78\n",
      "Request:\n",
      "\n",
      "Pyaerocom EbasSQLRequest\n",
      "------------------------\n",
      "variables: ('aerosol_light_scattering_coefficient', 'aerosol_light_backscattering_coefficient', 'pressure')\n",
      "start_date: 2010-01-01\n",
      "stop_date: 2011-01-01\n",
      "station_names: None\n",
      "matrices: None\n",
      "altitude_range: None\n",
      "lon_range: None\n",
      "lat_range: None\n",
      "instrument_types: nephelometer\n",
      "statistics: None\n",
      "datalevel: None\n",
      "Filename request string:\n",
      "select distinct filename from variable join station on station.station_code=variable.station_code where instr_type in ('nephelometer') and comp_name in ('aerosol_light_scattering_coefficient', 'aerosol_light_backscattering_coefficient', 'pressure') and first_end < '2011-01-01' and last_start > '2010-01-01';\n"
     ]
    }
   ],
   "source": [
    "print(\"Total number of files found:{}\\nRequest:\\n{}\".format(len(files), request))"
   ]
  },
  {
   "cell_type": "markdown",
   "metadata": {},
   "source": [
    "#### Browsing the database\n",
    "\n",
    "The ``EbasFileIndex`` class provides some convenience function that allow to browse meta information for a given request. These are illustrated in the following:\n",
    "\n",
    "For instance, we can check, what variables could actually be retrieved in the request:"
   ]
  },
  {
   "cell_type": "code",
   "execution_count": 6,
   "metadata": {},
   "outputs": [
    {
     "name": "stdout",
     "output_type": "stream",
     "text": [
      "[('pressure',), ('aerosol_light_backscattering_coefficient',), ('aerosol_light_scattering_coefficient',)]\n"
     ]
    }
   ],
   "source": [
    "print(db.contains_variables(request))"
   ]
  },
  {
   "cell_type": "markdown",
   "metadata": {},
   "source": [
    "Or what matrices the data contains:"
   ]
  },
  {
   "cell_type": "code",
   "execution_count": 7,
   "metadata": {},
   "outputs": [
    {
     "name": "stdout",
     "output_type": "stream",
     "text": [
      "[('instrument',), ('aerosol',), ('pm10',), ('pm1',)]\n"
     ]
    }
   ],
   "source": [
    "print(db.contains_matrices(request))"
   ]
  },
  {
   "cell_type": "markdown",
   "metadata": {},
   "source": [
    "Or which station coordinates (lon, lat) the dataset contains:"
   ]
  },
  {
   "cell_type": "code",
   "execution_count": 8,
   "metadata": {},
   "outputs": [
    {
     "name": "stdout",
     "output_type": "stream",
     "text": [
      "[(23.583333, 42.166667), (-79.783839, 44.231006), (-122.9576034546, 50.059299469), (-104.986864, 54.353743), (-62.3415260315, 82.4991455078), (7.985, 46.5475), (11.0096197128, 47.8014984131), (12.93386, 51.53014), (10.97964, 47.4165), (-8.266, -70.666), (-16.4994, 28.309), (-3.605, 37.164), (-6.733333, 37.1), (2.35, 41.766667), (24.283333, 61.85), (24.116111111, 67.973333333), (2.964886, 45.772223), (25.666667, 35.316667), (19.583333, 46.966667), (-9.89944, 53.32583), (77.151389, 28.427778), (8.633333, 45.8), (10.7, 44.183333), (126.3300018311, 36.5383338928), (126.17, 33.28), (4.926389, 51.970278), (8.252, 58.38853), (11.88668, 78.90715), (2.533333, -72.016667), (-65.618, 18.381), (13.15, 56.016667), (120.87, 23.47), (-156.6114654541, 71.3230133057), (-111.9841, 35.9731), (-112.1288, 36.0778), (-111.6832, 34.3405), (-88.36667, 40.05), (-83.9416, 35.6334), (-112.8, 31.9506), (-109.3889, 32.0097), (-155.5761566162, 19.5362300873), (-86.148, 37.1317), (-68.2608, 44.3772), (-113.9958, 48.5103), (-114.2158, 39.005), (-81.7, 36.2), (-103.1772, 29.3022), (-78.4358, 38.5225), (-122.1243, 46.7582), (-97.484999, 36.605), (-24.7999992371, -89.9969482422), (-124.1510009766, 41.0541000366), (-105.5457, 40.2783), (-111.9692, 35.1406), (-77.04, 38.9), (-109.7958, 34.9139), (18.48968, -34.35348)]\n"
     ]
    }
   ],
   "source": [
    "print(db.contains_coordinates(request))"
   ]
  },
  {
   "cell_type": "markdown",
   "metadata": {},
   "source": [
    "Now, let's narrow this down:"
   ]
  },
  {
   "cell_type": "code",
   "execution_count": 9,
   "metadata": {},
   "outputs": [
    {
     "name": "stdout",
     "output_type": "stream",
     "text": [
      "[(-62.3415260315, 82.4991455078), (24.283333, 61.85), (24.116111111, 67.973333333), (11.88668, 78.90715), (-156.6114654541, 71.3230133057)]\n"
     ]
    }
   ],
   "source": [
    "request.update(lat_range=(60, 90))\n",
    "print(db.contains_coordinates(request))"
   ]
  },
  {
   "cell_type": "markdown",
   "metadata": {},
   "source": [
    "Print all station names:"
   ]
  },
  {
   "cell_type": "code",
   "execution_count": 10,
   "metadata": {},
   "outputs": [
    {
     "name": "stdout",
     "output_type": "stream",
     "text": [
      "[('Alert',), ('Hyytiälä',), ('Pallas (Sammaltunturi)',), ('Zeppelin mountain (Ny-Ålesund)',), ('Barrow',)]\n"
     ]
    }
   ],
   "source": [
    "print(db.contains_station_names(request))"
   ]
  },
  {
   "cell_type": "markdown",
   "metadata": {},
   "source": [
    "#### Custom browsing\n",
    "\n",
    "The previous browsing methods (e.g. `contains_coordinates()`, `contains_matrices`, `contains_variables`) are all just simple wrappers for the general query method `make_query_str` of the `EbasSQLRequest` class, that is then called by the `EbasFileIndex` class using the method `execute_request`). Thus, if needed, you may define your own request simply by using the provided interface. Here an example using the request constraints specified above. Let's say we want to retrieve a list of station names and their coordinates (lon, lat, alt). \n",
    "This can be done by calling (we store the results in a list named `station_info`):"
   ]
  },
  {
   "cell_type": "code",
   "execution_count": 11,
   "metadata": {},
   "outputs": [
    {
     "name": "stdout",
     "output_type": "stream",
     "text": [
      "('Alert', -62.3415260315, 82.4991455078, 210.0)\n",
      "('Hyytiälä', 24.283333, 61.85, 181.0)\n",
      "('Pallas (Sammaltunturi)', 24.116111111, 67.973333333, 565.0)\n",
      "('Zeppelin mountain (Ny-Ålesund)', 11.88668, 78.90715, 474.0)\n",
      "('Barrow', -156.6114654541, 71.3230133057, 11.0)\n"
     ]
    }
   ],
   "source": [
    "query_str = request.make_query_str(what=(\"station_name\",\n",
    "                                         \"station_longitude\",\n",
    "                                         \"station_latitude\",\n",
    "                                         \"station_altitude\"))\n",
    "\n",
    "station_info = db.execute_request(query_str)\n",
    "\n",
    "for item in station_info:\n",
    "    print(item)"
   ]
  },
  {
   "cell_type": "markdown",
   "metadata": {},
   "source": [
    "You can see that the results for each station are stored in tuples in the order of the request."
   ]
  },
  {
   "cell_type": "markdown",
   "metadata": {},
   "source": [
    "#### Read all files \n",
    "\n",
    "Let's update the file list and read all files."
   ]
  },
  {
   "cell_type": "code",
   "execution_count": 12,
   "metadata": {},
   "outputs": [
    {
     "name": "stdout",
     "output_type": "stream",
     "text": [
      "Total number of files found: 5\n"
     ]
    }
   ],
   "source": [
    "files = db.execute_request(request)\n",
    "print(\"Total number of files found: {}\".format(len(files)))"
   ]
  },
  {
   "cell_type": "markdown",
   "metadata": {},
   "source": [
    "Let's read the files:"
   ]
  },
  {
   "cell_type": "code",
   "execution_count": 13,
   "metadata": {},
   "outputs": [],
   "source": [
    "import os\n",
    "data = []\n",
    "data_dir = os.path.join(pya.const.OBSCONFIG[\"EBASMC\"][\"PATH\"], 'data')\n",
    "for f in files:\n",
    "    data.append(pya.io.EbasNasaAmesFile(os.path.join(data_dir, f[0])))"
   ]
  },
  {
   "cell_type": "code",
   "execution_count": 14,
   "metadata": {},
   "outputs": [
    {
     "data": {
      "text/plain": [
       "5"
      ]
     },
     "execution_count": 14,
     "metadata": {},
     "output_type": "execute_result"
    }
   ],
   "source": [
    "len(data)"
   ]
  }
 ],
 "metadata": {
  "kernelspec": {
   "display_name": "Python 3",
   "language": "python",
   "name": "python3"
  },
  "language_info": {
   "codemirror_mode": {
    "name": "ipython",
    "version": 3
   },
   "file_extension": ".py",
   "mimetype": "text/x-python",
   "name": "python",
   "nbconvert_exporter": "python",
   "pygments_lexer": "ipython3",
   "version": "3.7.3"
  }
 },
 "nbformat": 4,
 "nbformat_minor": 2
}
